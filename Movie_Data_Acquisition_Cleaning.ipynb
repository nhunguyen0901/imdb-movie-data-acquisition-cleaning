{
 "cells": [
  {
   "cell_type": "markdown",
   "metadata": {},
   "source": [
    "# Acquiring and Preprocessing Movie Data from IMDb\n",
    "\n",
    "In this notebook, I walk through the process of acquiring, cleaning, and preparing data from the Internet Movie Database (IMDb) for further analysis. IMDb is a rich source of information on movies and the people who work on them—covering an entire multi-billion-dollar industry dating back to 1900. By the end of this notebook, you’ll see how we transform raw, messy data into a structured dataset ready for sophisticated analyses like network modeling and predictive analytics."
   ]
  },
  {
   "cell_type": "markdown",
   "metadata": {},
   "source": [
    "# Data Acquisition\n",
    "\n",
    "In this section, we access IMDb’s title.basics dataset directly from their server. This ensure we works with the most up-to-date information available. The dataset contains essential information about movies, including movie IDs, release years, and genres."
   ]
  },
  {
   "cell_type": "code",
   "execution_count": null,
   "metadata": {},
   "outputs": [
    {
     "ename": "",
     "evalue": "",
     "output_type": "error",
     "traceback": [
      "\u001b[1;31mRunning cells with 'Python 3.13.0' requires the ipykernel package.\n",
      "\u001b[1;31mRun the following command to install 'ipykernel' into the Python environment. \n",
      "\u001b[1;31mCommand: '/usr/local/bin/python3 -m pip install ipykernel -U --user --force-reinstall'"
     ]
    }
   ],
   "source": [
    "# import libraries \n",
    "import numpy as np # linear algebra\n",
    "import pandas as pd # data manipulation\n",
    "import matplotlib.pyplot as plt # data visualization\n",
    "import seaborn as sns # data visualization"
   ]
  },
  {
   "cell_type": "code",
   "execution_count": 3,
   "metadata": {},
   "outputs": [],
   "source": [
    "# Define URL for IMDB movie data\n",
    "url_title_basics = 'https://datasets.imdbws.com/title.basics.tsv.gz'\n",
    "\n",
    "# Load the data directly from IMDB server\n",
    "title_basics = pd.read_csv(url_title_basics, sep='\\t', compression='gzip', low_memory=False)"
   ]
  },
  {
   "cell_type": "markdown",
   "metadata": {},
   "source": [
    "# Exploring the Data Structure\n",
    "\n",
    "Now that we have loaded the data, we take a closer look at its structure. We examine the first few rows, the shape of the dataset, and the distribution of key columns like `titleType`, `isAdult`, and `startYear`. This helps us decide how to filter and preprocess the data."
   ]
  },
  {
   "cell_type": "code",
   "execution_count": 4,
   "metadata": {},
   "outputs": [
    {
     "name": "stdout",
     "output_type": "stream",
     "text": [
      "      tconst titleType            primaryTitle           originalTitle  \\\n",
      "0  tt0000001     short              Carmencita              Carmencita   \n",
      "1  tt0000002     short  Le clown et ses chiens  Le clown et ses chiens   \n",
      "2  tt0000003     short            Poor Pierrot          Pauvre Pierrot   \n",
      "3  tt0000004     short             Un bon bock             Un bon bock   \n",
      "4  tt0000005     short        Blacksmith Scene        Blacksmith Scene   \n",
      "\n",
      "  isAdult startYear endYear runtimeMinutes                    genres  \n",
      "0       0      1894      \\N              1         Documentary,Short  \n",
      "1       0      1892      \\N              5           Animation,Short  \n",
      "2       0      1892      \\N              5  Animation,Comedy,Romance  \n",
      "3       0      1892      \\N             12           Animation,Short  \n",
      "4       0      1893      \\N              1                     Short  \n",
      "Shape of the dataset: (11526095, 9)\n"
     ]
    }
   ],
   "source": [
    "# Understanding the data structure\n",
    "print(title_basics.head())\n",
    "print(\"Shape of the dataset:\", title_basics.shape)"
   ]
  },
  {
   "cell_type": "markdown",
   "metadata": {},
   "source": [
    "In the movie data, each row is a movie and the columns contain information on the movie such as the title, the year it was released, the runtime, the genres, etc."
   ]
  },
  {
   "cell_type": "code",
   "execution_count": 5,
   "metadata": {},
   "outputs": [
    {
     "name": "stdout",
     "output_type": "stream",
     "text": [
      "Distribution of values for titleType:\n",
      "titleType\n",
      "tvEpisode       8865477\n",
      "short           1049806\n",
      "movie            709482\n",
      "video            307606\n",
      "tvSeries         278512\n",
      "tvMovie          150234\n",
      "tvMiniSeries      60442\n",
      "tvSpecial         51646\n",
      "videoGame         42299\n",
      "tvShort           10590\n",
      "tvPilot               1\n",
      "Name: count, dtype: int64\n",
      "Distribution of values for isAdult:\n",
      "isAdult\n",
      "0       11152948\n",
      "1         372322\n",
      "1978         130\n",
      "1985          83\n",
      "1980          66\n",
      "1979          63\n",
      "1984          41\n",
      "1974          33\n",
      "1982          32\n",
      "1972          29\n",
      "2015          28\n",
      "1983          25\n",
      "1966          25\n",
      "1968          24\n",
      "2016          20\n",
      "1977          20\n",
      "1981          18\n",
      "1973          18\n",
      "1976          18\n",
      "1975          18\n",
      "2017          17\n",
      "1986          17\n",
      "1987          13\n",
      "1967           9\n",
      "2018           9\n",
      "2020           9\n",
      "2013           8\n",
      "2023           7\n",
      "2019           7\n",
      "1969           7\n",
      "2014           6\n",
      "1988           5\n",
      "2024           4\n",
      "1970           3\n",
      "1971           2\n",
      "2022           2\n",
      "\\N             1\n",
      "2011           1\n",
      "2012           1\n",
      "2021           1\n",
      "1964           1\n",
      "1965           1\n",
      "1959           1\n",
      "1958           1\n",
      "2005           1\n",
      "Name: count, dtype: int64\n",
      "Distribution of values for startYear:\n",
      "startYear\n",
      "\\N      1425429\n",
      "2021     508376\n",
      "2022     491450\n",
      "2018     457834\n",
      "2023     456304\n",
      "         ...   \n",
      "1889          2\n",
      "1874          1\n",
      "1883          1\n",
      "2031          1\n",
      "1885          1\n",
      "Name: count, Length: 152, dtype: int64\n"
     ]
    }
   ],
   "source": [
    "# Analyze the distribution of values in titleType, isAdult, startYear\n",
    "for col in ['titleType', 'isAdult', 'startYear']:\n",
    "    print(f\"Distribution of values for {col}:\")\n",
    "    print(title_basics[col].value_counts())"
   ]
  },
  {
   "cell_type": "markdown",
   "metadata": {},
   "source": [
    "# Data Cleaning and Filtering\n",
    "\n",
    "In this step, we convert key columns to numeric types and filter the dataset to include only movies released between 2000 and 2024. We also remove pornographic movies because they represent a niche market with a lot of stigma attached to it and thus there is not a lot of information available on them on IMDb."
   ]
  },
  {
   "cell_type": "code",
   "execution_count": 6,
   "metadata": {},
   "outputs": [
    {
     "data": {
      "text/plain": [
       "{'Action',\n",
       " 'Adult',\n",
       " 'Adventure',\n",
       " 'Animation',\n",
       " 'Biography',\n",
       " 'Comedy',\n",
       " 'Crime',\n",
       " 'Documentary',\n",
       " 'Drama',\n",
       " 'Family',\n",
       " 'Fantasy',\n",
       " 'Game-Show',\n",
       " 'History',\n",
       " 'Horror',\n",
       " 'Music',\n",
       " 'Musical',\n",
       " 'Mystery',\n",
       " 'News',\n",
       " 'Reality-TV',\n",
       " 'Romance',\n",
       " 'Sci-Fi',\n",
       " 'Sport',\n",
       " 'Talk-Show',\n",
       " 'Thriller',\n",
       " 'War',\n",
       " 'Western',\n",
       " '\\\\N'}"
      ]
     },
     "execution_count": 6,
     "metadata": {},
     "output_type": "execute_result"
    }
   ],
   "source": [
    "# Convert startYear and isAdult to numeric\n",
    "title_basics['startYear'] = pd.to_numeric(title_basics['startYear'], errors='coerce')\n",
    "title_basics['isAdult'] = pd.to_numeric(title_basics['isAdult'], errors='coerce')\n",
    "\n",
    "# Filter the data to include only movies that is not adult and has a start year between 2000 and 2024\n",
    "movies_2000_2024 = title_basics[\n",
    "    (title_basics['titleType'] == 'movie') & \n",
    "    (title_basics['isAdult'] == 0) & \n",
    "    (title_basics['startYear'] >= 2000) & (title_basics['startYear'] <= 2024)\n",
    "    ]\n",
    "\n",
    "# Display the unique genres in the dataset\n",
    "set(\n",
    "    genre.strip() \n",
    "    for genres in movies_2000_2024['genres'].dropna() \n",
    "    for genre in genres.split(',')\n",
    ")"
   ]
  },
  {
   "cell_type": "code",
   "execution_count": 7,
   "metadata": {},
   "outputs": [],
   "source": [
    "# Remove rows where the genres column contains any of the unwanted genres\n",
    "excluded_genres = 'Game-Show|News|Reality-TV|Talk-Show'\n",
    "movies_2000_2024 = movies_2000_2024[~movies_2000_2024['genres'].str.contains(excluded_genres, regex=True, na=False)]\n",
    "\n",
    "# Convert genres to strings\n",
    "movies_2000_2024['genres'] = movies_2000_2024['genres'].astype(str)\n",
    "\n",
    "# Replace the exact string \"['\\N']\" with NaN\n",
    "movies_2000_2024['genres'] = movies_2000_2024['genres'].replace(r'\\N', np.nan)\n",
    "\n",
    "# Replace the exact string \"['\\N']\" with NaN in runtimeMinutes\n",
    "movies_2000_2024['runtimeMinutes'] = movies_2000_2024['runtimeMinutes'].replace(r'\\N', np.nan)\n",
    "\n",
    "# Convert runtimeMinutes to numeric\n",
    "movies_2000_2024['runtimeMinutes'] = pd.to_numeric(movies_2000_2024['runtimeMinutes'], errors='coerce')\n",
    "\n",
    "# Convert StartYear to integer\n",
    "movies_2000_2024['startYear'] = movies_2000_2024['startYear'].astype(int)\n",
    "\n",
    "# Drop columns titleType, isAdult, endYear\n",
    "movies_2000_2024 = movies_2000_2024.drop(columns=['titleType', 'isAdult', 'endYear'])"
   ]
  },
  {
   "cell_type": "code",
   "execution_count": 8,
   "metadata": {},
   "outputs": [
    {
     "name": "stdout",
     "output_type": "stream",
     "text": [
      "<class 'pandas.core.frame.DataFrame'>\n",
      "Index: 338844 entries, 11631 to 11526045\n",
      "Data columns (total 6 columns):\n",
      " #   Column          Non-Null Count   Dtype  \n",
      "---  ------          --------------   -----  \n",
      " 0   tconst          338844 non-null  object \n",
      " 1   primaryTitle    338842 non-null  object \n",
      " 2   originalTitle   338842 non-null  object \n",
      " 3   startYear       338844 non-null  int64  \n",
      " 4   runtimeMinutes  263480 non-null  float64\n",
      " 5   genres          322210 non-null  object \n",
      "dtypes: float64(1), int64(1), object(4)\n",
      "memory usage: 18.1+ MB\n"
     ]
    }
   ],
   "source": [
    "# Examine the data types\n",
    "movies_2000_2024.info()"
   ]
  },
  {
   "cell_type": "code",
   "execution_count": 9,
   "metadata": {},
   "outputs": [
    {
     "data": {
      "text/plain": [
       "tconst            338844\n",
       "primaryTitle      304315\n",
       "originalTitle     311129\n",
       "startYear             25\n",
       "runtimeMinutes       469\n",
       "genres              1104\n",
       "dtype: int64"
      ]
     },
     "execution_count": 9,
     "metadata": {},
     "output_type": "execute_result"
    }
   ],
   "source": [
    "# Count the number of unique values in each column except for the 'genres' column\n",
    "movies_2000_2024.nunique()"
   ]
  },
  {
   "cell_type": "markdown",
   "metadata": {},
   "source": [
    "The movie data contains information on 338844 movies released across 25 years (2000 to 2024)."
   ]
  },
  {
   "cell_type": "code",
   "execution_count": 10,
   "metadata": {},
   "outputs": [
    {
     "data": {
      "text/html": [
       "<div>\n",
       "<style scoped>\n",
       "    .dataframe tbody tr th:only-of-type {\n",
       "        vertical-align: middle;\n",
       "    }\n",
       "\n",
       "    .dataframe tbody tr th {\n",
       "        vertical-align: top;\n",
       "    }\n",
       "\n",
       "    .dataframe thead th {\n",
       "        text-align: right;\n",
       "    }\n",
       "</style>\n",
       "<table border=\"1\" class=\"dataframe\">\n",
       "  <thead>\n",
       "    <tr style=\"text-align: right;\">\n",
       "      <th></th>\n",
       "      <th>tconst</th>\n",
       "      <th>primaryTitle</th>\n",
       "      <th>originalTitle</th>\n",
       "      <th>startYear</th>\n",
       "      <th>runtimeMinutes</th>\n",
       "      <th>genres</th>\n",
       "    </tr>\n",
       "  </thead>\n",
       "  <tbody>\n",
       "    <tr>\n",
       "      <th>11631</th>\n",
       "      <td>tt0011801</td>\n",
       "      <td>Tötet nicht mehr</td>\n",
       "      <td>Tötet nicht mehr</td>\n",
       "      <td>2019</td>\n",
       "      <td>NaN</td>\n",
       "      <td>Action,Crime</td>\n",
       "    </tr>\n",
       "    <tr>\n",
       "      <th>34794</th>\n",
       "      <td>tt0035423</td>\n",
       "      <td>Kate &amp; Leopold</td>\n",
       "      <td>Kate &amp; Leopold</td>\n",
       "      <td>2001</td>\n",
       "      <td>118.0</td>\n",
       "      <td>Comedy,Fantasy,Romance</td>\n",
       "    </tr>\n",
       "    <tr>\n",
       "      <th>61102</th>\n",
       "      <td>tt0062336</td>\n",
       "      <td>The Tango of the Widower and Its Distorting Mi...</td>\n",
       "      <td>El tango del viudo y su espejo deformante</td>\n",
       "      <td>2020</td>\n",
       "      <td>70.0</td>\n",
       "      <td>Drama</td>\n",
       "    </tr>\n",
       "    <tr>\n",
       "      <th>67654</th>\n",
       "      <td>tt0069049</td>\n",
       "      <td>The Other Side of the Wind</td>\n",
       "      <td>The Other Side of the Wind</td>\n",
       "      <td>2018</td>\n",
       "      <td>122.0</td>\n",
       "      <td>Drama</td>\n",
       "    </tr>\n",
       "    <tr>\n",
       "      <th>69141</th>\n",
       "      <td>tt0070596</td>\n",
       "      <td>Socialist Realism</td>\n",
       "      <td>El realismo socialista</td>\n",
       "      <td>2023</td>\n",
       "      <td>78.0</td>\n",
       "      <td>Drama,History</td>\n",
       "    </tr>\n",
       "  </tbody>\n",
       "</table>\n",
       "</div>"
      ],
      "text/plain": [
       "          tconst                                       primaryTitle  \\\n",
       "11631  tt0011801                                   Tötet nicht mehr   \n",
       "34794  tt0035423                                     Kate & Leopold   \n",
       "61102  tt0062336  The Tango of the Widower and Its Distorting Mi...   \n",
       "67654  tt0069049                         The Other Side of the Wind   \n",
       "69141  tt0070596                                  Socialist Realism   \n",
       "\n",
       "                                   originalTitle  startYear  runtimeMinutes  \\\n",
       "11631                           Tötet nicht mehr       2019             NaN   \n",
       "34794                             Kate & Leopold       2001           118.0   \n",
       "61102  El tango del viudo y su espejo deformante       2020            70.0   \n",
       "67654                 The Other Side of the Wind       2018           122.0   \n",
       "69141                     El realismo socialista       2023            78.0   \n",
       "\n",
       "                       genres  \n",
       "11631            Action,Crime  \n",
       "34794  Comedy,Fantasy,Romance  \n",
       "61102                   Drama  \n",
       "67654                   Drama  \n",
       "69141           Drama,History  "
      ]
     },
     "execution_count": 10,
     "metadata": {},
     "output_type": "execute_result"
    }
   ],
   "source": [
    "movies_2000_2024.head()"
   ]
  },
  {
   "cell_type": "markdown",
   "metadata": {},
   "source": [
    "# Adding Ratings and Votes Data\n",
    "\n",
    "We merge the IMDb title.basics data with ratings and votes data. This provides additional information on how these movies were received by the audience."
   ]
  },
  {
   "cell_type": "code",
   "execution_count": 11,
   "metadata": {},
   "outputs": [
    {
     "name": "stdout",
     "output_type": "stream",
     "text": [
      "      tconst  averageRating  numVotes\n",
      "0  tt0000001            5.7      2142\n",
      "1  tt0000002            5.5       290\n",
      "2  tt0000003            6.4      2179\n",
      "3  tt0000004            5.3       186\n",
      "4  tt0000005            6.2      2913\n",
      "Shape of the dataset: (1546890, 3)\n"
     ]
    }
   ],
   "source": [
    "# Define URL for IMDB movie ratings and votes data\n",
    "url_ratings = 'https://datasets.imdbws.com/title.ratings.tsv.gz'\n",
    "\n",
    "# Load the data directly from IMDB server\n",
    "ratings = pd.read_csv(url_ratings, sep='\\t', compression='gzip', low_memory=False)\n",
    "\n",
    "# Understanding the data structure\n",
    "print(ratings.head())\n",
    "print(\"Shape of the dataset:\", ratings.shape)"
   ]
  },
  {
   "cell_type": "code",
   "execution_count": 12,
   "metadata": {},
   "outputs": [
    {
     "name": "stdout",
     "output_type": "stream",
     "text": [
      "<class 'pandas.core.frame.DataFrame'>\n",
      "RangeIndex: 1546890 entries, 0 to 1546889\n",
      "Data columns (total 3 columns):\n",
      " #   Column         Non-Null Count    Dtype  \n",
      "---  ------         --------------    -----  \n",
      " 0   tconst         1546890 non-null  object \n",
      " 1   averageRating  1546890 non-null  float64\n",
      " 2   numVotes       1546890 non-null  int64  \n",
      "dtypes: float64(1), int64(1), object(1)\n",
      "memory usage: 35.4+ MB\n"
     ]
    }
   ],
   "source": [
    "# Examine the data types\n",
    "ratings.info()"
   ]
  },
  {
   "cell_type": "code",
   "execution_count": 13,
   "metadata": {},
   "outputs": [
    {
     "data": {
      "text/html": [
       "<div>\n",
       "<style scoped>\n",
       "    .dataframe tbody tr th:only-of-type {\n",
       "        vertical-align: middle;\n",
       "    }\n",
       "\n",
       "    .dataframe tbody tr th {\n",
       "        vertical-align: top;\n",
       "    }\n",
       "\n",
       "    .dataframe thead th {\n",
       "        text-align: right;\n",
       "    }\n",
       "</style>\n",
       "<table border=\"1\" class=\"dataframe\">\n",
       "  <thead>\n",
       "    <tr style=\"text-align: right;\">\n",
       "      <th></th>\n",
       "      <th>tconst</th>\n",
       "      <th>primaryTitle</th>\n",
       "      <th>originalTitle</th>\n",
       "      <th>startYear</th>\n",
       "      <th>runtimeMinutes</th>\n",
       "      <th>genres</th>\n",
       "      <th>averageRating</th>\n",
       "      <th>numVotes</th>\n",
       "    </tr>\n",
       "  </thead>\n",
       "  <tbody>\n",
       "    <tr>\n",
       "      <th>0</th>\n",
       "      <td>tt0011801</td>\n",
       "      <td>Tötet nicht mehr</td>\n",
       "      <td>Tötet nicht mehr</td>\n",
       "      <td>2019</td>\n",
       "      <td>NaN</td>\n",
       "      <td>Action,Crime</td>\n",
       "      <td>NaN</td>\n",
       "      <td>NaN</td>\n",
       "    </tr>\n",
       "    <tr>\n",
       "      <th>1</th>\n",
       "      <td>tt0035423</td>\n",
       "      <td>Kate &amp; Leopold</td>\n",
       "      <td>Kate &amp; Leopold</td>\n",
       "      <td>2001</td>\n",
       "      <td>118.0</td>\n",
       "      <td>Comedy,Fantasy,Romance</td>\n",
       "      <td>6.4</td>\n",
       "      <td>91466.0</td>\n",
       "    </tr>\n",
       "    <tr>\n",
       "      <th>2</th>\n",
       "      <td>tt0062336</td>\n",
       "      <td>The Tango of the Widower and Its Distorting Mi...</td>\n",
       "      <td>El tango del viudo y su espejo deformante</td>\n",
       "      <td>2020</td>\n",
       "      <td>70.0</td>\n",
       "      <td>Drama</td>\n",
       "      <td>6.4</td>\n",
       "      <td>229.0</td>\n",
       "    </tr>\n",
       "    <tr>\n",
       "      <th>3</th>\n",
       "      <td>tt0069049</td>\n",
       "      <td>The Other Side of the Wind</td>\n",
       "      <td>The Other Side of the Wind</td>\n",
       "      <td>2018</td>\n",
       "      <td>122.0</td>\n",
       "      <td>Drama</td>\n",
       "      <td>6.7</td>\n",
       "      <td>8268.0</td>\n",
       "    </tr>\n",
       "    <tr>\n",
       "      <th>4</th>\n",
       "      <td>tt0070596</td>\n",
       "      <td>Socialist Realism</td>\n",
       "      <td>El realismo socialista</td>\n",
       "      <td>2023</td>\n",
       "      <td>78.0</td>\n",
       "      <td>Drama,History</td>\n",
       "      <td>7.1</td>\n",
       "      <td>137.0</td>\n",
       "    </tr>\n",
       "  </tbody>\n",
       "</table>\n",
       "</div>"
      ],
      "text/plain": [
       "      tconst                                       primaryTitle  \\\n",
       "0  tt0011801                                   Tötet nicht mehr   \n",
       "1  tt0035423                                     Kate & Leopold   \n",
       "2  tt0062336  The Tango of the Widower and Its Distorting Mi...   \n",
       "3  tt0069049                         The Other Side of the Wind   \n",
       "4  tt0070596                                  Socialist Realism   \n",
       "\n",
       "                               originalTitle  startYear  runtimeMinutes  \\\n",
       "0                           Tötet nicht mehr       2019             NaN   \n",
       "1                             Kate & Leopold       2001           118.0   \n",
       "2  El tango del viudo y su espejo deformante       2020            70.0   \n",
       "3                 The Other Side of the Wind       2018           122.0   \n",
       "4                     El realismo socialista       2023            78.0   \n",
       "\n",
       "                   genres  averageRating  numVotes  \n",
       "0            Action,Crime            NaN       NaN  \n",
       "1  Comedy,Fantasy,Romance            6.4   91466.0  \n",
       "2                   Drama            6.4     229.0  \n",
       "3                   Drama            6.7    8268.0  \n",
       "4           Drama,History            7.1     137.0  "
      ]
     },
     "execution_count": 13,
     "metadata": {},
     "output_type": "execute_result"
    }
   ],
   "source": [
    "# Merge the two datasets\n",
    "movies_2000_2024 = pd.merge(movies_2000_2024, ratings, on='tconst', how=\"left\")\n",
    "movies_2000_2024.head()"
   ]
  },
  {
   "cell_type": "markdown",
   "metadata": {},
   "source": [
    "# Data Quality Checks and Summary Statistics\n",
    "\n",
    "We perform quality checks by identifying duplicates, examining missing values, and calculating summary statistics. These statistics provide a quick overview of data distributions and potential anomalies."
   ]
  },
  {
   "cell_type": "code",
   "execution_count": 14,
   "metadata": {},
   "outputs": [
    {
     "name": "stdout",
     "output_type": "stream",
     "text": [
      "tconst                 0\n",
      "primaryTitle           2\n",
      "originalTitle          2\n",
      "startYear              0\n",
      "runtimeMinutes     75364\n",
      "genres             16634\n",
      "averageRating     148200\n",
      "numVotes          148200\n",
      "dtype: int64\n",
      "Number of duplicate rows: 0\n"
     ]
    }
   ],
   "source": [
    "# Check missing values\n",
    "print(movies_2000_2024.isnull().sum())\n",
    "\n",
    "# Identify duplicates\n",
    "duplicates = movies_2000_2024[movies_2000_2024.duplicated()]\n",
    "print(\"Number of duplicate rows:\", duplicates.shape[0])"
   ]
  },
  {
   "cell_type": "markdown",
   "metadata": {},
   "source": [
    "Among the 338844 movies in the movie data, 78% has runtime information, 95% has genre information, 56% has rating and vote information."
   ]
  },
  {
   "cell_type": "code",
   "execution_count": 18,
   "metadata": {},
   "outputs": [
    {
     "data": {
      "text/html": [
       "<div>\n",
       "<style scoped>\n",
       "    .dataframe tbody tr th:only-of-type {\n",
       "        vertical-align: middle;\n",
       "    }\n",
       "\n",
       "    .dataframe tbody tr th {\n",
       "        vertical-align: top;\n",
       "    }\n",
       "\n",
       "    .dataframe thead th {\n",
       "        text-align: right;\n",
       "    }\n",
       "</style>\n",
       "<table border=\"1\" class=\"dataframe\">\n",
       "  <thead>\n",
       "    <tr style=\"text-align: right;\">\n",
       "      <th></th>\n",
       "      <th>runtimeMinutes</th>\n",
       "      <th>averageRating</th>\n",
       "      <th>numVotes</th>\n",
       "    </tr>\n",
       "  </thead>\n",
       "  <tbody>\n",
       "    <tr>\n",
       "      <th>count</th>\n",
       "      <td>263480.00</td>\n",
       "      <td>190644.00</td>\n",
       "      <td>190644.00</td>\n",
       "    </tr>\n",
       "    <tr>\n",
       "      <th>mean</th>\n",
       "      <td>90.22</td>\n",
       "      <td>6.25</td>\n",
       "      <td>4421.54</td>\n",
       "    </tr>\n",
       "    <tr>\n",
       "      <th>std</th>\n",
       "      <td>191.09</td>\n",
       "      <td>1.49</td>\n",
       "      <td>39716.57</td>\n",
       "    </tr>\n",
       "    <tr>\n",
       "      <th>min</th>\n",
       "      <td>1.00</td>\n",
       "      <td>1.00</td>\n",
       "      <td>5.00</td>\n",
       "    </tr>\n",
       "    <tr>\n",
       "      <th>25%</th>\n",
       "      <td>73.00</td>\n",
       "      <td>5.30</td>\n",
       "      <td>19.00</td>\n",
       "    </tr>\n",
       "    <tr>\n",
       "      <th>50%</th>\n",
       "      <td>89.00</td>\n",
       "      <td>6.40</td>\n",
       "      <td>69.00</td>\n",
       "    </tr>\n",
       "    <tr>\n",
       "      <th>75%</th>\n",
       "      <td>101.00</td>\n",
       "      <td>7.30</td>\n",
       "      <td>387.00</td>\n",
       "    </tr>\n",
       "    <tr>\n",
       "      <th>max</th>\n",
       "      <td>59460.00</td>\n",
       "      <td>10.00</td>\n",
       "      <td>2995601.00</td>\n",
       "    </tr>\n",
       "  </tbody>\n",
       "</table>\n",
       "</div>"
      ],
      "text/plain": [
       "       runtimeMinutes  averageRating   numVotes\n",
       "count       263480.00      190644.00  190644.00\n",
       "mean            90.22           6.25    4421.54\n",
       "std            191.09           1.49   39716.57\n",
       "min              1.00           1.00       5.00\n",
       "25%             73.00           5.30      19.00\n",
       "50%             89.00           6.40      69.00\n",
       "75%            101.00           7.30     387.00\n",
       "max          59460.00          10.00 2995601.00"
      ]
     },
     "execution_count": 18,
     "metadata": {},
     "output_type": "execute_result"
    }
   ],
   "source": [
    "pd.set_option('display.float_format', '{:.2f}'.format)\n",
    "movies_2000_2024[['runtimeMinutes', 'averageRating', 'numVotes']].describe()"
   ]
  },
  {
   "cell_type": "markdown",
   "metadata": {},
   "source": [
    "Let's create histograms to illustrate the distribution of these variables."
   ]
  },
  {
   "cell_type": "code",
   "execution_count": 19,
   "metadata": {},
   "outputs": [
    {
     "data": {
      "image/png": "[encoded data removed]",
      "text/plain": [
       "<Figure size 1800x500 with 3 Axes>"
      ]
     },
     "metadata": {},
     "output_type": "display_data"
    }
   ],
   "source": [
    "# Plot histograms for runtimeMinutes, averageRating, and numVotes.\n",
    "# Apply log transformation to runtimeMinutes and numVotes to handle skewness.\n",
    "fig, axes = plt.subplots(1, 3, figsize=(18, 5))\n",
    "\n",
    "# Log-transform runtimeMinutes and plot histogram\n",
    "runtime_log = np.log(movies_2000_2024['runtimeMinutes'].dropna())\n",
    "axes[0].hist(runtime_log, bins=30, color='#4AAFD5', edgecolor='white')\n",
    "axes[0].set_title('Log of Runtime Minutes')\n",
    "axes[0].set_xlabel('Log(Runtime Minutes)')\n",
    "axes[0].set_ylabel('Frequency')\n",
    "\n",
    "# Plot histogram for averageRating\n",
    "avg_rating = movies_2000_2024['averageRating'].dropna()\n",
    "axes[1].hist(avg_rating, bins=30, color='#91B187', edgecolor='white')\n",
    "axes[1].set_title('Average Rating')\n",
    "axes[1].set_xlabel('Average Rating')\n",
    "axes[1].set_ylabel('Frequency')\n",
    "\n",
    "# Log-transform numVotes and plot histogram\n",
    "votes_log = np.log(movies_2000_2024['numVotes'].dropna())\n",
    "axes[2].hist(votes_log, bins=30, color='#E7A339', edgecolor='white')\n",
    "axes[2].set_title('Log of Num Votes')\n",
    "axes[2].set_xlabel('Log(Num Votes)')\n",
    "axes[2].set_ylabel('Frequency')\n",
    "\n",
    "plt.tight_layout()\n",
    "plt.show()"
   ]
  },
  {
   "cell_type": "code",
   "execution_count": 20,
   "metadata": {},
   "outputs": [
    {
     "data": {
      "image/png": "[encoded data removed]",
      "text/plain": [
       "<Figure size 1200x600 with 1 Axes>"
      ]
     },
     "metadata": {},
     "output_type": "display_data"
    }
   ],
   "source": [
    "# Count the number of movies by year\n",
    "movies_by_year = movies_2000_2024['startYear'].value_counts().sort_index()\n",
    "\n",
    "# Plot the bar chart\n",
    "plt.figure(figsize=(12, 6))\n",
    "sns.barplot(x=movies_by_year.index, y=movies_by_year.values, hue=movies_by_year.index, palette=\"flare\", legend=False)\n",
    "plt.xlabel('Year')\n",
    "plt.ylabel('Number of Movies')\n",
    "plt.title('Number of Movies by Year (2000-2024)')\n",
    "plt.xticks(rotation=45)\n",
    "plt.tight_layout()\n",
    "plt.show()"
   ]
  },
  {
   "cell_type": "code",
   "execution_count": 21,
   "metadata": {},
   "outputs": [],
   "source": [
    "# Save the cleaned dataset to a CSV file\n",
    "movies_2000_2024.to_csv('movies_2000_2024.csv', index=False)"
   ]
  }
 ],
 "metadata": {
  "kernelspec": {
   "display_name": "Python 3",
   "language": "python",
   "name": "python3"
  },
  "language_info": {
   "codemirror_mode": {
    "name": "ipython",
    "version": 3
   },
   "file_extension": ".py",
   "mimetype": "text/x-python",
   "name": "python",
   "nbconvert_exporter": "python",
   "pygments_lexer": "ipython3",
   "version": "3.13.0"
  }
 },
 "nbformat": 4,
 "nbformat_minor": 2
}
