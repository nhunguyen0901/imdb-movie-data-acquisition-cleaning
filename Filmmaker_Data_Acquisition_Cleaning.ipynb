{
 "cells": [
  {
   "cell_type": "markdown",
   "metadata": {},
   "source": [
    "# Acquiring and Preprocessing Personnel Data from IMDb\n",
    "\n",
    "This notebook walks through the process of accessing and cleaning data about filmmakers from IMDb-the largest database about the movie industry. The goal is to build a structured dataset of filmmakers involved in core creative roles (directors, writers, producers, cinematographers, editors, composers, and production designers) for movies released between 2000 and 2024. This dataset was used in my PhD dissertation to analyze the career trajectories of filmmakers, the dynamics of their collaboration networks, and the factors that influence their productivity and longevity in the industry.\n"
   ]
  },
  {
   "cell_type": "code",
   "execution_count": 3,
   "metadata": {},
   "outputs": [],
   "source": [
    "# import libraries \n",
    "import numpy as np # linear algebra\n",
    "import pandas as pd # data manipulation\n",
    "import matplotlib.pyplot as plt # data visualization\n",
    "import seaborn as sns # data visualization\n",
    "import ast # abstract syntax trees\n",
    "import math # mathematical operations\n",
    "from unidecode import unidecode # normalizing unicode characters in strings to their ASCII counterparts\n",
    "import re # regular expressions\n",
    "from scipy.stats import ttest_ind # t-test"
   ]
  },
  {
   "cell_type": "markdown",
   "metadata": {},
   "source": [
    "# Loading Movie Data\n",
    "\n",
    "First, we load the movie data created in another notebook (`Movie_Data_Acquisition_Cleaning.ipynb`). This dataset contains information about movies released between 2000 and 2024, including the movie title, release year, genres, and the names of the filmmakers involved in the production."
   ]
  },
  {
   "cell_type": "code",
   "execution_count": null,
   "metadata": {},
   "outputs": [
    {
     "name": "stdout",
     "output_type": "stream",
     "text": [
      "      tconst                                       primaryTitle  \\\n",
      "0  tt0011801                                   Tötet nicht mehr   \n",
      "1  tt0035423                                     Kate & Leopold   \n",
      "2  tt0062336  The Tango of the Widower and Its Distorting Mi...   \n",
      "3  tt0069049                         The Other Side of the Wind   \n",
      "4  tt0070596                                  Socialist Realism   \n",
      "\n",
      "                               originalTitle  startYear  runtimeMinutes  \\\n",
      "0                           Tötet nicht mehr       2019             NaN   \n",
      "1                             Kate & Leopold       2001           118.0   \n",
      "2  El tango del viudo y su espejo deformante       2020            70.0   \n",
      "3                 The Other Side of the Wind       2018           122.0   \n",
      "4                     El realismo socialista       2023            78.0   \n",
      "\n",
      "                   genres  averageRating  numVotes  \n",
      "0            Action,Crime            NaN       NaN  \n",
      "1  Comedy,Fantasy,Romance            6.4   91466.0  \n",
      "2                   Drama            6.4     229.0  \n",
      "3                   Drama            6.7    8268.0  \n",
      "4           Drama,History            7.1     137.0  \n"
     ]
    }
   ],
   "source": [
    "# Read the movie data created previously, covering all movies from 2000 to 2024\n",
    "movies_2000_2024 = pd.read_csv('/Users/julie/Library/CloudStorage/OneDrive-McGillUniversity/Work/Datasets/movies_2000_2024.csv')\n",
    "\n",
    "# Display the first few rows of the dataframe\n",
    "print(movies_2000_2024.head())"
   ]
  },
  {
   "cell_type": "code",
   "execution_count": 10,
   "metadata": {},
   "outputs": [
    {
     "name": "stdout",
     "output_type": "stream",
     "text": [
      "<class 'pandas.core.frame.DataFrame'>\n",
      "RangeIndex: 338843 entries, 0 to 338842\n",
      "Data columns (total 8 columns):\n",
      " #   Column          Non-Null Count   Dtype  \n",
      "---  ------          --------------   -----  \n",
      " 0   tconst          338843 non-null  object \n",
      " 1   primaryTitle    338841 non-null  object \n",
      " 2   originalTitle   338841 non-null  object \n",
      " 3   startYear       338843 non-null  int64  \n",
      " 4   runtimeMinutes  263479 non-null  float64\n",
      " 5   genres          322209 non-null  object \n",
      " 6   averageRating   190644 non-null  float64\n",
      " 7   numVotes        190644 non-null  float64\n",
      "dtypes: float64(3), int64(1), object(4)\n",
      "memory usage: 20.7+ MB\n"
     ]
    }
   ],
   "source": [
    "# Examine the data types\n",
    "movies_2000_2024.info()"
   ]
  },
  {
   "cell_type": "markdown",
   "metadata": {},
   "source": [
    "# Acquiring IMDb Crew Data\n",
    "\n",
    "IMDb also provides a separate dataset about individuals working on films. Let's pull this data directly from IMDb's servers."
   ]
  },
  {
   "cell_type": "code",
   "execution_count": 5,
   "metadata": {},
   "outputs": [
    {
     "name": "stdout",
     "output_type": "stream",
     "text": [
      "      tconst  ordering     nconst         category                      job  \\\n",
      "0  tt0000001         1  nm1588970             self                       \\N   \n",
      "1  tt0000001         2  nm0005690         director                       \\N   \n",
      "2  tt0000001         3  nm0005690         producer                 producer   \n",
      "3  tt0000001         4  nm0374658  cinematographer  director of photography   \n",
      "4  tt0000002         1  nm0721526         director                       \\N   \n",
      "\n",
      "  characters  \n",
      "0   [\"Self\"]  \n",
      "1         \\N  \n",
      "2         \\N  \n",
      "3         \\N  \n",
      "4         \\N  \n",
      "Shape of the dataset: (91510832, 6)\n",
      "<class 'pandas.core.frame.DataFrame'>\n",
      "RangeIndex: 91510832 entries, 0 to 91510831\n",
      "Data columns (total 6 columns):\n",
      " #   Column      Dtype \n",
      "---  ------      ----- \n",
      " 0   tconst      object\n",
      " 1   ordering    int64 \n",
      " 2   nconst      object\n",
      " 3   category    object\n",
      " 4   job         object\n",
      " 5   characters  object\n",
      "dtypes: int64(1), object(5)\n",
      "memory usage: 4.1+ GB\n",
      "None\n"
     ]
    }
   ],
   "source": [
    "# Define URL for IMDB movie crew data\n",
    "url_principals = 'https://datasets.imdbws.com/title.principals.tsv.gz'\n",
    "\n",
    "# Load the data directly from IMDB server\n",
    "principals = pd.read_csv(url_principals, sep='\\t', compression='gzip', low_memory=False)\n",
    "\n",
    "# Understanding the data structure\n",
    "print(principals.head())\n",
    "print(\"Shape of the dataset:\", principals.shape)\n",
    "print(principals.info())"
   ]
  },
  {
   "cell_type": "markdown",
   "metadata": {},
   "source": [
    "The personnel data contains information on people who have worked on movies. Each row is a person-movie pair and the columns contain information on the role they played in the movie."
   ]
  },
  {
   "cell_type": "markdown",
   "metadata": {},
   "source": [
    "# Data Cleaning and Filtering\n",
    "\n",
    "We select filmmakers involved in core creative roles (directors, writers, producers, cinematographers, editors, composers, and production designers)."
   ]
  },
  {
   "cell_type": "code",
   "execution_count": 6,
   "metadata": {},
   "outputs": [],
   "source": [
    "# Filter the data to include only those in core creative roles\n",
    "creative_roles = ['director', 'producer', 'writer', 'editor', 'cinematographer', 'production_designer', 'composer']\n",
    "principals_core_creative = principals[principals['category'].isin(creative_roles)]\n",
    "\n",
    "# Merge the movies_2000_2024 dataset with the principals_core_creative dataset to include the crew information\n",
    "movie_creative_crew = pd.merge(\n",
    "    movies_2000_2024[['tconst', 'startYear']], \n",
    "    principals_core_creative[['tconst', 'nconst', 'category']], \n",
    "    on='tconst', \n",
    "    how=\"inner\"\n",
    "    )"
   ]
  },
  {
   "cell_type": "code",
   "execution_count": 7,
   "metadata": {},
   "outputs": [
    {
     "name": "stdout",
     "output_type": "stream",
     "text": [
      "      tconst  startYear     nconst         category\n",
      "0  tt0011801       2019  nm0681726         director\n",
      "1  tt0011801       2019  nm0483944           writer\n",
      "2  tt0011801       2019  nm0681726           writer\n",
      "3  tt0011801       2019  nm0681726         producer\n",
      "4  tt0011801       2019  nm1773808  cinematographer\n",
      "Shape of the dataset: (2095701, 4)\n"
     ]
    }
   ],
   "source": [
    "# Understand the data structure\n",
    "print(movie_creative_crew.head())\n",
    "print(\"Shape of the dataset:\", movie_creative_crew.shape)"
   ]
  },
  {
   "cell_type": "markdown",
   "metadata": {},
   "source": [
    "This data links a movie (`tconst`) to the people who worked on it (`nconst`). So each row is a person-movie pair, and the `category` column tells us what the person did on the movie."
   ]
  },
  {
   "cell_type": "code",
   "execution_count": 8,
   "metadata": {},
   "outputs": [
    {
     "name": "stdout",
     "output_type": "stream",
     "text": [
      "<class 'pandas.core.frame.DataFrame'>\n",
      "RangeIndex: 2095701 entries, 0 to 2095700\n",
      "Data columns (total 4 columns):\n",
      " #   Column     Dtype \n",
      "---  ------     ----- \n",
      " 0   tconst     object\n",
      " 1   startYear  int64 \n",
      " 2   nconst     object\n",
      " 3   category   object\n",
      "dtypes: int64(1), object(3)\n",
      "memory usage: 64.0+ MB\n"
     ]
    }
   ],
   "source": [
    "# Examine the data types\n",
    "movie_creative_crew.info()"
   ]
  },
  {
   "cell_type": "code",
   "execution_count": 9,
   "metadata": {},
   "outputs": [
    {
     "data": {
      "text/plain": [
       "tconst       328453\n",
       "startYear        25\n",
       "nconst       670615\n",
       "category          7\n",
       "dtype: int64"
      ]
     },
     "execution_count": 9,
     "metadata": {},
     "output_type": "execute_result"
    }
   ],
   "source": [
    "# Count the number of unique values in each column\n",
    "movie_creative_crew.nunique()"
   ]
  },
  {
   "cell_type": "markdown",
   "metadata": {},
   "source": [
    "This data contains information on 670615 creative workers involved in the production of 328453 movies over 25 years (2000 to 2024). So among the 338843 movies released between 2000 and 2024, 97% has information on creative workers (directors, writers, producers, cinematographers, editors, composers, and production designers)."
   ]
  },
  {
   "cell_type": "code",
   "execution_count": 12,
   "metadata": {},
   "outputs": [
    {
     "name": "stdout",
     "output_type": "stream",
     "text": [
      "['director' 'writer' 'producer' 'cinematographer' 'composer' 'editor'\n",
      " 'production_designer']\n"
     ]
    }
   ],
   "source": [
    "# Display the unique values in the category and startYear columns\n",
    "print(movie_creative_crew['category'].unique())"
   ]
  },
  {
   "cell_type": "markdown",
   "metadata": {},
   "source": [
    "The data has information on the people working in 7 core creative roles (e.g. writer, director, composer) on movies released between 2000 and 2024. "
   ]
  },
  {
   "cell_type": "code",
   "execution_count": 13,
   "metadata": {},
   "outputs": [
    {
     "name": "stdout",
     "output_type": "stream",
     "text": [
      "tconst       0\n",
      "startYear    0\n",
      "nconst       0\n",
      "category     0\n",
      "dtype: int64\n",
      "Number of duplicate rows: 0\n"
     ]
    }
   ],
   "source": [
    "# Check missing values\n",
    "print(movie_creative_crew.isnull().sum())\n",
    "\n",
    "# Identify duplicates\n",
    "duplicates = movie_creative_crew[movie_creative_crew.duplicated()]\n",
    "print(\"Number of duplicate rows:\", duplicates.shape[0])\n"
   ]
  },
  {
   "cell_type": "code",
   "execution_count": 14,
   "metadata": {},
   "outputs": [
    {
     "data": {
      "text/html": [
       "<div>\n",
       "<style scoped>\n",
       "    .dataframe tbody tr th:only-of-type {\n",
       "        vertical-align: middle;\n",
       "    }\n",
       "\n",
       "    .dataframe tbody tr th {\n",
       "        vertical-align: top;\n",
       "    }\n",
       "\n",
       "    .dataframe thead th {\n",
       "        text-align: right;\n",
       "    }\n",
       "</style>\n",
       "<table border=\"1\" class=\"dataframe\">\n",
       "  <thead>\n",
       "    <tr style=\"text-align: right;\">\n",
       "      <th></th>\n",
       "      <th>tconst</th>\n",
       "      <th>startYear</th>\n",
       "      <th>nconst</th>\n",
       "      <th>category</th>\n",
       "    </tr>\n",
       "  </thead>\n",
       "  <tbody>\n",
       "    <tr>\n",
       "      <th>0</th>\n",
       "      <td>tt0011801</td>\n",
       "      <td>2019</td>\n",
       "      <td>nm0681726</td>\n",
       "      <td>director</td>\n",
       "    </tr>\n",
       "    <tr>\n",
       "      <th>1</th>\n",
       "      <td>tt0011801</td>\n",
       "      <td>2019</td>\n",
       "      <td>nm0483944</td>\n",
       "      <td>writer</td>\n",
       "    </tr>\n",
       "    <tr>\n",
       "      <th>2</th>\n",
       "      <td>tt0011801</td>\n",
       "      <td>2019</td>\n",
       "      <td>nm0681726</td>\n",
       "      <td>writer</td>\n",
       "    </tr>\n",
       "    <tr>\n",
       "      <th>3</th>\n",
       "      <td>tt0011801</td>\n",
       "      <td>2019</td>\n",
       "      <td>nm0681726</td>\n",
       "      <td>producer</td>\n",
       "    </tr>\n",
       "    <tr>\n",
       "      <th>4</th>\n",
       "      <td>tt0011801</td>\n",
       "      <td>2019</td>\n",
       "      <td>nm1773808</td>\n",
       "      <td>cinematographer</td>\n",
       "    </tr>\n",
       "  </tbody>\n",
       "</table>\n",
       "</div>"
      ],
      "text/plain": [
       "      tconst  startYear     nconst         category\n",
       "0  tt0011801       2019  nm0681726         director\n",
       "1  tt0011801       2019  nm0483944           writer\n",
       "2  tt0011801       2019  nm0681726           writer\n",
       "3  tt0011801       2019  nm0681726         producer\n",
       "4  tt0011801       2019  nm1773808  cinematographer"
      ]
     },
     "execution_count": 14,
     "metadata": {},
     "output_type": "execute_result"
    }
   ],
   "source": [
    "movie_creative_crew.head()"
   ]
  },
  {
   "cell_type": "markdown",
   "metadata": {},
   "source": [
    "Let's visualize how the size of creative teams has evolved from 2000 to 2024."
   ]
  },
  {
   "cell_type": "code",
   "execution_count": 15,
   "metadata": {},
   "outputs": [
    {
     "data": {
      "image/png": "[encoded data removed]",
      "text/plain": [
       "<Figure size 1200x600 with 1 Axes>"
      ]
     },
     "metadata": {},
     "output_type": "display_data"
    }
   ],
   "source": [
    "# Group by movie and count the number of unique people in it (team size)\n",
    "team_size_per_movie = movie_creative_crew.groupby('tconst')['nconst'].nunique().reset_index(name='team_size')\n",
    "\n",
    "# Merge the team size data with the movies_2000_2024 dataset to get the startYear\n",
    "team_size_per_movie = pd.merge(team_size_per_movie, movies_2000_2024[['tconst', 'startYear']], on='tconst', how='left')\n",
    "\n",
    "# Calculate the average team size for movies for each year\n",
    "avg_team_size_per_year = team_size_per_movie.groupby('startYear')['team_size'].mean().reset_index()\n",
    "\n",
    "# Plot the average team size for movies for each year as a bar chart\n",
    "plt.figure(figsize=(12, 6))\n",
    "sns.barplot(\n",
    "    data=avg_team_size_per_year,\n",
    "    x='startYear',\n",
    "    y='team_size',\n",
    "    hue='startYear',        # assign x variable as hue\n",
    "    palette=\"rocket\",\n",
    "    dodge=False\n",
    ")\n",
    "plt.xlabel('Year')\n",
    "plt.ylabel('Average Team Size')\n",
    "plt.title('Average Team Size for Movies (2000-2024)')\n",
    "plt.xticks(rotation=45)\n",
    "plt.legend([], [], frameon=False)  # hide the legend\n",
    "plt.tight_layout()\n",
    "plt.show()"
   ]
  },
  {
   "cell_type": "code",
   "execution_count": 18,
   "metadata": {},
   "outputs": [],
   "source": [
    "# save movie_creative_crew\n",
    "movie_creative_crew.to_csv('movie_creative_crew_2000_2024.csv', index=False)"
   ]
  },
  {
   "cell_type": "markdown",
   "metadata": {},
   "source": [
    "# Accessing Filmmaker Personal Data\n",
    "\n",
    "IMDb provides information about the filmmakers themselves (like their names and birth year). Let's pull this data directly from IMDb's servers."
   ]
  },
  {
   "cell_type": "code",
   "execution_count": 19,
   "metadata": {},
   "outputs": [
    {
     "name": "stdout",
     "output_type": "stream",
     "text": [
      "      nconst      primaryName birthYear deathYear  \\\n",
      "0  nm0000001     Fred Astaire      1899      1987   \n",
      "1  nm0000002    Lauren Bacall      1924      2014   \n",
      "2  nm0000003  Brigitte Bardot      1934        \\N   \n",
      "3  nm0000004     John Belushi      1949      1982   \n",
      "4  nm0000005   Ingmar Bergman      1918      2007   \n",
      "\n",
      "                    primaryProfession                           knownForTitles  \n",
      "0        actor,miscellaneous,producer  tt0072308,tt0050419,tt0027125,tt0031983  \n",
      "1  actress,soundtrack,archive_footage  tt0037382,tt0075213,tt0038355,tt0117057  \n",
      "2   actress,music_department,producer  tt0057345,tt0049189,tt0056404,tt0054452  \n",
      "3       actor,writer,music_department  tt0072562,tt0077975,tt0080455,tt0078723  \n",
      "4               writer,director,actor  tt0050986,tt0069467,tt0050976,tt0083922  \n",
      "Shape of the dataset: (14264702, 6)\n",
      "<class 'pandas.core.frame.DataFrame'>\n",
      "RangeIndex: 14264702 entries, 0 to 14264701\n",
      "Data columns (total 6 columns):\n",
      " #   Column             Dtype \n",
      "---  ------             ----- \n",
      " 0   nconst             object\n",
      " 1   primaryName        object\n",
      " 2   birthYear          object\n",
      " 3   deathYear          object\n",
      " 4   primaryProfession  object\n",
      " 5   knownForTitles     object\n",
      "dtypes: object(6)\n",
      "memory usage: 653.0+ MB\n",
      "Data types: None\n"
     ]
    }
   ],
   "source": [
    "# Define the URL for the IMDb dataset that contains names of film industry professionals\n",
    "url_name = 'https://datasets.imdbws.com/name.basics.tsv.gz'\n",
    "# Load the dataset using the URL\n",
    "names = pd.read_csv(url_name, sep='\\t', compression='gzip', encoding='utf-8', low_memory=False)\n",
    "\n",
    "# Understanding the data structure\n",
    "print(names.head())\n",
    "print(\"Shape of the dataset:\", names.shape)\n",
    "print(\"Data types:\", names.info())"
   ]
  },
  {
   "cell_type": "markdown",
   "metadata": {},
   "source": [
    "# Extracting Filmmaker First Names and Calculating their Productivity\n",
    "\n",
    "Finally, we extract the first names of the filmmakers. This will help us predict their gender in the next step. \n",
    "\n",
    "We also compute how many movies each filmmaker has worked on. This metric (movie count) gives us insight into their productivity and can later help us build a model predicting who will have a long, prolific career and who will drop out of the industry prematurely."
   ]
  },
  {
   "cell_type": "code",
   "execution_count": null,
   "metadata": {},
   "outputs": [],
   "source": [
    "# Filter the names DataFrame\n",
    "creatives_2000_2024 = names[names['nconst'].isin(movie_creative_crew['nconst'])].copy()\n",
    "\n",
    "# Convert birthYear and deathYear to numeric\n",
    "creatives_2000_2024['birthYear'] = pd.to_numeric(creatives_2000_2024['birthYear'], errors='coerce')\n",
    "creatives_2000_2024['deathYear'] = pd.to_numeric(creatives_2000_2024['deathYear'], errors='coerce')"
   ]
  },
  {
   "cell_type": "code",
   "execution_count": null,
   "metadata": {},
   "outputs": [
    {
     "data": {
      "text/html": [
       "<div>\n",
       "<style scoped>\n",
       "    .dataframe tbody tr th:only-of-type {\n",
       "        vertical-align: middle;\n",
       "    }\n",
       "\n",
       "    .dataframe tbody tr th {\n",
       "        vertical-align: top;\n",
       "    }\n",
       "\n",
       "    .dataframe thead th {\n",
       "        text-align: right;\n",
       "    }\n",
       "</style>\n",
       "<table border=\"1\" class=\"dataframe\">\n",
       "  <thead>\n",
       "    <tr style=\"text-align: right;\">\n",
       "      <th></th>\n",
       "      <th>nconst</th>\n",
       "      <th>primaryName</th>\n",
       "      <th>birthYear</th>\n",
       "      <th>deathYear</th>\n",
       "      <th>primaryProfession</th>\n",
       "      <th>knownForTitles</th>\n",
       "      <th>first_name</th>\n",
       "      <th>movie_count</th>\n",
       "    </tr>\n",
       "  </thead>\n",
       "  <tbody>\n",
       "    <tr>\n",
       "      <th>0</th>\n",
       "      <td>nm0000005</td>\n",
       "      <td>Ingmar Bergman</td>\n",
       "      <td>1918.0</td>\n",
       "      <td>2007.0</td>\n",
       "      <td>writer,director,actor</td>\n",
       "      <td>tt0050986,tt0069467,tt0050976,tt0083922</td>\n",
       "      <td>Ingmar</td>\n",
       "      <td>3</td>\n",
       "    </tr>\n",
       "    <tr>\n",
       "      <th>1</th>\n",
       "      <td>nm0000016</td>\n",
       "      <td>Georges Delerue</td>\n",
       "      <td>1925.0</td>\n",
       "      <td>1992.0</td>\n",
       "      <td>composer,music_department,actor</td>\n",
       "      <td>tt0091763,tt0096320,tt0069946,tt0079477</td>\n",
       "      <td>Georges</td>\n",
       "      <td>3</td>\n",
       "    </tr>\n",
       "    <tr>\n",
       "      <th>2</th>\n",
       "      <td>nm0000018</td>\n",
       "      <td>Kirk Douglas</td>\n",
       "      <td>1916.0</td>\n",
       "      <td>2020.0</td>\n",
       "      <td>actor,producer,director</td>\n",
       "      <td>tt0043338,tt0080736,tt0054331,tt0049456</td>\n",
       "      <td>Kirk</td>\n",
       "      <td>1</td>\n",
       "    </tr>\n",
       "    <tr>\n",
       "      <th>3</th>\n",
       "      <td>nm0000019</td>\n",
       "      <td>Federico Fellini</td>\n",
       "      <td>1920.0</td>\n",
       "      <td>1993.0</td>\n",
       "      <td>writer,director,actor</td>\n",
       "      <td>tt0056801,tt0050783,tt0047528,tt0053779</td>\n",
       "      <td>Federico</td>\n",
       "      <td>1</td>\n",
       "    </tr>\n",
       "    <tr>\n",
       "      <th>4</th>\n",
       "      <td>nm0000025</td>\n",
       "      <td>Jerry Goldsmith</td>\n",
       "      <td>1929.0</td>\n",
       "      <td>2004.0</td>\n",
       "      <td>music_department,composer,miscellaneous</td>\n",
       "      <td>tt0119488,tt0077269,tt0112715,tt0117731</td>\n",
       "      <td>Jerry</td>\n",
       "      <td>7</td>\n",
       "    </tr>\n",
       "  </tbody>\n",
       "</table>\n",
       "</div>"
      ],
      "text/plain": [
       "      nconst       primaryName  birthYear  deathYear  \\\n",
       "0  nm0000005    Ingmar Bergman     1918.0     2007.0   \n",
       "1  nm0000016   Georges Delerue     1925.0     1992.0   \n",
       "2  nm0000018      Kirk Douglas     1916.0     2020.0   \n",
       "3  nm0000019  Federico Fellini     1920.0     1993.0   \n",
       "4  nm0000025   Jerry Goldsmith     1929.0     2004.0   \n",
       "\n",
       "                         primaryProfession  \\\n",
       "0                    writer,director,actor   \n",
       "1          composer,music_department,actor   \n",
       "2                  actor,producer,director   \n",
       "3                    writer,director,actor   \n",
       "4  music_department,composer,miscellaneous   \n",
       "\n",
       "                            knownForTitles first_name  movie_count  \n",
       "0  tt0050986,tt0069467,tt0050976,tt0083922     Ingmar            3  \n",
       "1  tt0091763,tt0096320,tt0069946,tt0079477    Georges            3  \n",
       "2  tt0043338,tt0080736,tt0054331,tt0049456       Kirk            1  \n",
       "3  tt0056801,tt0050783,tt0047528,tt0053779   Federico            1  \n",
       "4  tt0119488,tt0077269,tt0112715,tt0117731      Jerry            7  "
      ]
     },
     "execution_count": 20,
     "metadata": {},
     "output_type": "execute_result"
    }
   ],
   "source": [
    "\n",
    "# Convert primaryName to string\n",
    "creatives_2000_2024['primaryName'] = creatives_2000_2024['primaryName'].astype(str)\n",
    "\n",
    "# Convert unicode characters to their closest ASCII representation\n",
    "# Split the 'primaryName' by space and selecting the first element isolates the first name\n",
    "creatives_2000_2024['first_name'] = creatives_2000_2024['primaryName'].apply(unidecode).apply(lambda x: x.split()[0])\n",
    "\n",
    "# Count the number of movies each unique person (nconst) has worked on\n",
    "movies_per_person = movie_creative_crew['nconst'].value_counts().reset_index()\n",
    "movies_per_person.columns = ['nconst', 'movie_count']\n",
    "\n",
    "# Merge the count with the creatives_2000_2024 DataFrame\n",
    "creatives_2000_2024 = pd.merge(creatives_2000_2024, movies_per_person, on='nconst', how='left')\n",
    "\n",
    "# Display the first few rows of the updated DataFrame\n",
    "creatives_2000_2024.head()"
   ]
  },
  {
   "cell_type": "code",
   "execution_count": 24,
   "metadata": {},
   "outputs": [
    {
     "data": {
      "image/png": "[encoded data removed]",
      "text/plain": [
       "<Figure size 1200x600 with 1 Axes>"
      ]
     },
     "metadata": {},
     "output_type": "display_data"
    }
   ],
   "source": [
    "# Apply log transformation to the movie_count column\n",
    "creatives_2000_2024['log_movie_count'] = np.log1p(creatives_2000_2024['movie_count'])\n",
    "\n",
    "# Plot the log-transformed movie count\n",
    "plt.figure(figsize=(12, 6))\n",
    "sns.histplot(creatives_2000_2024['log_movie_count'], bins=50, kde=True)\n",
    "plt.xlabel('Log(Number of Movies)')\n",
    "plt.ylabel('Frequency')\n",
    "plt.title('Distribution of Log-Transformed Movie Count per Filmmaker')\n",
    "plt.show()"
   ]
  },
  {
   "cell_type": "code",
   "execution_count": 25,
   "metadata": {},
   "outputs": [
    {
     "data": {
      "text/plain": [
       "count    670605.000000\n",
       "mean          3.125075\n",
       "std           6.249070\n",
       "min           1.000000\n",
       "25%           1.000000\n",
       "50%           1.000000\n",
       "75%           3.000000\n",
       "max        1462.000000\n",
       "Name: movie_count, dtype: float64"
      ]
     },
     "execution_count": 25,
     "metadata": {},
     "output_type": "execute_result"
    }
   ],
   "source": [
    "# Compute descriptive statistics for movie_count\n",
    "creatives_2000_2024['movie_count'].describe()"
   ]
  },
  {
   "cell_type": "markdown",
   "metadata": {},
   "source": [
    "On average, a creative worker has worked on about 3 movies. More than half have only worked on one movie, and 75% have worked on 3 or fewer movies. This indicates that most creative workers are not prolific and have only worked on a few movies between 2000 and 2024. However, the high standard deviation and high maximum value indicate that there are some creative workers who have worked on a large number of movies. This follows the pareto principle, where a small number of creative workers are responsible for a large number of movies."
   ]
  },
  {
   "cell_type": "code",
   "execution_count": 22,
   "metadata": {},
   "outputs": [],
   "source": [
    "# Save the creatives_2000_2024 DataFrame to a CSV file\n",
    "creatives_2000_2024.to_csv('creatives_2000_2024.csv', index=False)"
   ]
  }
 ],
 "metadata": {
  "kernelspec": {
   "display_name": "myenv",
   "language": "python",
   "name": "python3"
  },
  "language_info": {
   "codemirror_mode": {
    "name": "ipython",
    "version": 3
   },
   "file_extension": ".py",
   "mimetype": "text/x-python",
   "name": "python",
   "nbconvert_exporter": "python",
   "pygments_lexer": "ipython3",
   "version": "3.13.0"
  }
 },
 "nbformat": 4,
 "nbformat_minor": 2
}
